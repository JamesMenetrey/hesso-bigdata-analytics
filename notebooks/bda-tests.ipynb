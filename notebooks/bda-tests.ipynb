{
 "cells": [
  {
   "cell_type": "code",
   "execution_count": 1,
   "metadata": {},
   "outputs": [],
   "source": [
    "import os\n",
    "os.environ[\"SPARK_HOME\"] = \"/opt/spark\"\n",
    "\n",
    "import findspark\n",
    "findspark.init()\n",
    "\n",
    "import pyspark\n",
    "sc = pyspark.SparkContext(appName=\"bda-spark\")"
   ]
  },
  {
   "cell_type": "code",
   "execution_count": 2,
   "metadata": {},
   "outputs": [
    {
     "name": "stdout",
     "output_type": "stream",
     "text": [
      "3.14604\n"
     ]
    }
   ],
   "source": [
    "# Check if Spark is working with a little pi calculation with monte carlo\n",
    "import random\n",
    "num_samples = 100000\n",
    "def inside(p):     \n",
    "  x, y = random.random(), random.random()\n",
    "  return x*x + y*y < 1\n",
    "count = sc.parallelize(range(0, num_samples)).filter(inside).count()\n",
    "pi = 4 * count / num_samples\n",
    "print(pi)"
   ]
  },
  {
   "cell_type": "code",
   "execution_count": 68,
   "metadata": {},
   "outputs": [
    {
     "data": {
      "text/plain": [
       "12"
      ]
     },
     "execution_count": 68,
     "metadata": {},
     "output_type": "execute_result"
    }
   ],
   "source": [
    "rdd_list = []\n",
    "path_trip = \"datasets/trip_data/\"\n",
    "path_fair = \"datasets/trip_fare/\"\n",
    "for e in os.listdir(path_trip):\n",
    "    rdd_list.append(sc.textFile(path_trip+e))\n",
    "len(rdd_list)"
   ]
  },
  {
   "cell_type": "code",
   "execution_count": 34,
   "metadata": {},
   "outputs": [],
   "source": [
    "data1 = sc.textFile('datasets/trip_data/trip_data_9.csv')"
   ]
  },
  {
   "cell_type": "code",
   "execution_count": 32,
   "metadata": {},
   "outputs": [
    {
     "data": {
      "text/plain": [
       "datasets/trip_data/trip_data_9.csv MapPartitionsRDD[48] at textFile at <unknown>:0"
      ]
     },
     "execution_count": 32,
     "metadata": {},
     "output_type": "execute_result"
    }
   ],
   "source": [
    "rdd_list[0]"
   ]
  },
  {
   "cell_type": "code",
   "execution_count": 8,
   "metadata": {},
   "outputs": [
    {
     "data": {
      "text/plain": [
       "14107694"
      ]
     },
     "execution_count": 8,
     "metadata": {},
     "output_type": "execute_result"
    }
   ],
   "source": [
    "rdd_list[0].count()"
   ]
  },
  {
   "cell_type": "code",
   "execution_count": 38,
   "metadata": {},
   "outputs": [
    {
     "data": {
      "text/plain": [
       "['medallion, hack_license, vendor_id, rate_code, store_and_fwd_flag, pickup_datetime, dropoff_datetime, passenger_count, trip_time_in_secs, trip_distance, pickup_longitude, pickup_latitude, dropoff_longitude, dropoff_latitude',\n",
       " '0CF8B9F42FED24FA1CA8AACA36D1A25B,A04B37232EB2478C7A831A6C587C15B4,CMT,1,N,2013-09-01 16:35:05,2013-09-01 16:47:53,2,767,2.60,-73.9879,40.724079,-73.994598,40.75058']"
      ]
     },
     "execution_count": 38,
     "metadata": {},
     "output_type": "execute_result"
    }
   ],
   "source": [
    "rdd_list[0].take(2)"
   ]
  },
  {
   "cell_type": "code",
   "execution_count": 61,
   "metadata": {},
   "outputs": [
    {
     "data": {
      "text/plain": [
       "'medallion, hack_license, vendor_id, rate_code, store_and_fwd_flag, pickup_datetime, dropoff_datetime, passenger_count, trip_time_in_secs, trip_distance, pickup_longitude, pickup_latitude, dropoff_longitude, dropoff_latitude'"
      ]
     },
     "execution_count": 61,
     "metadata": {},
     "output_type": "execute_result"
    }
   ],
   "source": [
    "rdd_list[0].first()"
   ]
  },
  {
   "cell_type": "code",
   "execution_count": null,
   "metadata": {},
   "outputs": [],
   "source": []
  },
  {
   "cell_type": "code",
   "execution_count": null,
   "metadata": {},
   "outputs": [],
   "source": []
  },
  {
   "cell_type": "code",
   "execution_count": 3,
   "metadata": {},
   "outputs": [],
   "source": [
    "from pyspark.sql import SQLContext\n",
    "sqlContext = SQLContext(sc)"
   ]
  },
  {
   "cell_type": "code",
   "execution_count": 4,
   "metadata": {},
   "outputs": [
    {
     "data": {
      "text/plain": [
       "14107693"
      ]
     },
     "execution_count": 4,
     "metadata": {},
     "output_type": "execute_result"
    }
   ],
   "source": [
    "df = (sqlContext.read.format(\"csv\")\n",
    "      .option(\"delimiter\", \",\")\n",
    "      .option(\"header\", \"true\")\n",
    "      .load(\"datasets/trip_data/trip_data_9.csv\")\n",
    "      .drop(\"medallion\",\" hack_license\")\n",
    "      .withColumnRenamed(\" vendor_id\", \"vendor_id\")\n",
    "      .withColumnRenamed(\" rate_code\", \"rate_code\")\n",
    "      .withColumnRenamed(\" store_and_fwd_flag\", \"store_and_fwd_flag\")\n",
    "      .withColumnRenamed(\" pickup_datetime\", \"pickup_datetime\")\n",
    "      .withColumnRenamed(\" dropoff_datetime\", \"dropoff_datetime\")\n",
    "      .withColumnRenamed(\" passenger_count\", \"passenger_count\")\n",
    "      .withColumnRenamed(\" trip_time_in_secs\", \"trip_time_in_secs\")\n",
    "      .withColumnRenamed(\" trip_distance\", \"trip_distance\")\n",
    "      .withColumnRenamed(\" pickup_longitude\", \"pickup_longitude\")\n",
    "      .withColumnRenamed(\" pickup_latitude\", \"pickup_latitude\")\n",
    "      .withColumnRenamed(\" dropoff_longitude\", \"dropoff_longitude\")\n",
    "      .withColumnRenamed(\" dropoff_latitude\", \"dropoff_latitude\")\n",
    "     )\n",
    "df.count()\n",
    "#df.describe().show()"
   ]
  },
  {
   "cell_type": "code",
   "execution_count": 67,
   "metadata": {},
   "outputs": [
    {
     "data": {
      "text/plain": [
       "6919647"
      ]
     },
     "execution_count": 67,
     "metadata": {},
     "output_type": "execute_result"
    }
   ],
   "source": [
    "df = (df.withColumn('pickup_longitude', df['pickup_longitude'].cast('float')) #convert str to float\n",
    "      .withColumn('pickup_latitude', df['pickup_latitude'].cast('float'))\n",
    "      .withColumn('dropoff_longitude', df['dropoff_longitude'].cast('float'))\n",
    "      .withColumn('dropoff_latitude', df['dropoff_latitude'].cast('float'))\n",
    "      .withColumn('trip_distance', df['trip_distance'].cast('float'))\n",
    "      .na.drop() #removes rows with null\n",
    "     )\n",
    "df.count()"
   ]
  },
  {
   "cell_type": "code",
   "execution_count": 58,
   "metadata": {},
   "outputs": [
    {
     "data": {
      "text/plain": [
       "[Row(vendor_id='CMT', rate_code='1', store_and_fwd_flag='N', pickup_datetime='2013-09-01 16:35:05', dropoff_datetime='2013-09-01 16:47:53', passenger_count='2', trip_time_in_secs='767', trip_distance=2.5999999046325684, pickup_longitude=-73.98789978027344, pickup_latitude=40.72407913208008, dropoff_longitude=-73.99459838867188, dropoff_latitude=40.750579833984375)]"
      ]
     },
     "execution_count": 58,
     "metadata": {},
     "output_type": "execute_result"
    }
   ],
   "source": [
    "df.head(1)"
   ]
  },
  {
   "cell_type": "code",
   "execution_count": 31,
   "metadata": {},
   "outputs": [
    {
     "data": {
      "text/plain": [
       "['vendor_id',\n",
       " 'rate_code',\n",
       " 'store_and_fwd_flag',\n",
       " 'pickup_datetime',\n",
       " 'dropoff_datetime',\n",
       " 'passenger_count',\n",
       " 'trip_time_in_secs',\n",
       " 'trip_distance',\n",
       " 'pickup_longitude',\n",
       " 'pickup_latitude',\n",
       " 'dropoff_longitude',\n",
       " 'dropoff_latitude']"
      ]
     },
     "execution_count": 31,
     "metadata": {},
     "output_type": "execute_result"
    }
   ],
   "source": [
    "df.columns"
   ]
  },
  {
   "cell_type": "code",
   "execution_count": 51,
   "metadata": {},
   "outputs": [
    {
     "data": {
      "text/plain": [
       "[Row( hack_license='A04B37232EB2478C7A831A6C587C15B4',  vendor_id='CMT',  rate_code='1',  store_and_fwd_flag='N',  pickup_datetime='2013-09-01 16:35:05',  dropoff_datetime='2013-09-01 16:47:53',  passenger_count='2',  trip_time_in_secs='767',  trip_distance='2.60',  pickup_longitude='-73.9879',  pickup_latitude='40.724079',  dropoff_longitude='-73.994598',  dropoff_latitude='40.75058'),\n",
       " Row( hack_license='8C1A6E14ED1D019FBD227970CC619496',  vendor_id='CMT',  rate_code='1',  store_and_fwd_flag='N',  pickup_datetime='2013-09-01 17:44:05',  dropoff_datetime='2013-09-01 17:58:37',  passenger_count='1',  trip_time_in_secs='871',  trip_distance='3.50',  pickup_longitude='-74.007866',  pickup_latitude='40.710232',  dropoff_longitude='-74.003975',  dropoff_latitude='40.756569'),\n",
       " Row( hack_license='96F7564919171F55F551F0F9B96B5199',  vendor_id='CMT',  rate_code='1',  store_and_fwd_flag='N',  pickup_datetime='2013-09-01 16:36:20',  dropoff_datetime='2013-09-01 16:50:53',  passenger_count='1',  trip_time_in_secs='872',  trip_distance='3.10',  pickup_longitude='-74.016724',  pickup_latitude='40.70924',  dropoff_longitude='-74.000435',  dropoff_latitude='40.752537')]"
      ]
     },
     "execution_count": 51,
     "metadata": {},
     "output_type": "execute_result"
    }
   ],
   "source": [
    "df2.head(3)"
   ]
  },
  {
   "cell_type": "code",
   "execution_count": 75,
   "metadata": {},
   "outputs": [
    {
     "name": "stdout",
     "output_type": "stream",
     "text": [
      "+---------+---------+------------------+-------------------+-------------------+---------------+-----------------+-------------+----------------+---------------+-----------------+----------------+\n",
      "|vendor_id|rate_code|store_and_fwd_flag|    pickup_datetime|   dropoff_datetime|passenger_count|trip_time_in_secs|trip_distance|pickup_longitude|pickup_latitude|dropoff_longitude|dropoff_latitude|\n",
      "+---------+---------+------------------+-------------------+-------------------+---------------+-----------------+-------------+----------------+---------------+-----------------+----------------+\n",
      "|      CMT|        1|                 N|2013-09-01 16:35:05|2013-09-01 16:47:53|              2|              767|          2.6|        -73.9879|       40.72408|         -73.9946|        40.75058|\n",
      "|      CMT|        1|                 N|2013-09-01 17:44:05|2013-09-01 17:58:37|              1|              871|          3.5|      -74.007866|       40.71023|       -74.003975|        40.75657|\n",
      "|      CMT|        1|                 N|2013-09-01 16:36:20|2013-09-01 16:50:53|              1|              872|          3.1|       -74.01672|       40.70924|       -74.000435|       40.752537|\n",
      "|      CMT|        1|                 N|2013-09-01 07:54:47|2013-09-01 08:09:17|              1|              869|          9.6|       -73.98488|      40.736416|        -73.86142|        40.76818|\n",
      "|      CMT|        1|                 N|2013-09-02 22:50:34|2013-09-02 22:58:22|              1|              468|          1.5|      -73.983376|      40.770252|        -73.97616|        40.78919|\n",
      "|      CMT|        1|                 Y|2013-09-02 23:39:36|2013-09-02 23:58:10|              1|             1113|          8.3|       -73.97051|      40.752357|        -73.87657|       40.738853|\n",
      "|      CMT|        1|                 N|2013-09-02 20:56:24|2013-09-02 21:13:10|              1|             1006|          9.9|       -73.87445|      40.774063|        -73.98471|       40.703598|\n",
      "|      CMT|        1|                 N|2013-09-02 23:07:43|2013-09-02 23:20:50|              2|              787|          3.9|      -74.008255|      40.721905|        -73.96648|       40.753864|\n",
      "|      CMT|        1|                 N|2013-09-02 20:02:09|2013-09-02 20:13:20|              1|              671|          2.2|       -73.98379|      40.743668|        -73.98283|        40.76715|\n",
      "|      CMT|        1|                 N|2013-09-02 17:14:08|2013-09-02 17:31:13|              1|             1024|          2.8|        -73.9542|       40.76419|        -73.97534|        40.79053|\n",
      "|      CMT|        1|                 N|2013-09-04 19:41:38|2013-09-04 20:07:41|              1|             1563|         18.8|       -73.78123|       40.64476|         -73.9851|       40.692684|\n",
      "|      CMT|        1|                 N|2013-09-04 18:29:33|2013-09-04 18:57:41|              1|             1688|         11.4|        -73.9637|       40.75727|        -73.83009|        40.84858|\n",
      "|      CMT|        1|                 N|2013-09-04 18:16:38|2013-09-04 18:23:35|              1|              416|          1.2|       -73.96142|      40.764915|        -73.96577|       40.752716|\n",
      "|      CMT|        1|                 N|2013-09-04 22:32:15|2013-09-04 22:36:18|              1|              243|          1.1|        -73.9888|      40.748432|        -73.98121|       40.762512|\n",
      "|      CMT|        1|                 N|2013-09-04 16:52:07|2013-09-04 17:04:49|              1|              761|          0.7|      -73.986694|      40.766476|        -73.97506|        40.76078|\n",
      "|      CMT|        1|                 N|2013-09-04 18:33:38|2013-09-04 18:36:30|              1|              172|          0.5|      -73.988434|      40.737186|        -73.98465|       40.743233|\n",
      "|      CMT|        1|                 N|2013-09-04 22:02:34|2013-09-04 22:28:13|              1|             1538|          8.4|      -73.983574|       40.76436|        -73.86974|       40.738228|\n",
      "|      CMT|        1|                 N|2013-09-03 21:33:51|2013-09-03 21:39:39|              2|              348|          1.9|       -73.98735|      40.754974|        -73.99982|       40.731094|\n",
      "|      CMT|        1|                 N|2013-09-03 21:41:21|2013-09-03 21:44:57|              1|              216|          0.7|       -74.00033|      40.730152|        -73.99485|       40.723244|\n",
      "|      CMT|        1|                 N|2013-09-03 22:40:21|2013-09-03 23:00:25|              2|             1204|          4.4|      -74.009445|      40.729015|        -73.97283|        40.73674|\n",
      "+---------+---------+------------------+-------------------+-------------------+---------------+-----------------+-------------+----------------+---------------+-----------------+----------------+\n",
      "only showing top 20 rows\n",
      "\n"
     ]
    }
   ],
   "source": [
    "df.show()"
   ]
  },
  {
   "cell_type": "code",
   "execution_count": null,
   "metadata": {},
   "outputs": [],
   "source": []
  },
  {
   "cell_type": "code",
   "execution_count": 5,
   "metadata": {},
   "outputs": [],
   "source": [
    "def df_maker(file_path):\n",
    "    print(file_path)\n",
    "    return (sqlContext.read.format(\"csv\")\n",
    "                .option(\"delimiter\", \",\")\n",
    "                .option(\"header\", \"true\")\n",
    "                .load(file_path)\n",
    "                .drop(\"medallion\")\n",
    "                .drop(\" hack_license\")\n",
    "                .drop(\"hack_license\")\n",
    "                .withColumnRenamed(\" vendor_id\", \"vendor_id\")\n",
    "                .withColumnRenamed(\" rate_code\", \"rate_code\")\n",
    "                .withColumnRenamed(\" store_and_fwd_flag\", \"store_and_fwd_flag\")\n",
    "                .withColumnRenamed(\" pickup_datetime\", \"pickup_datetime\")\n",
    "                .withColumnRenamed(\" dropoff_datetime\", \"dropoff_datetime\")\n",
    "                .withColumnRenamed(\" passenger_count\", \"passenger_count\")\n",
    "                .withColumnRenamed(\" trip_time_in_secs\", \"trip_time_in_secs\")\n",
    "                .withColumnRenamed(\" trip_distance\", \"trip_distance\")\n",
    "                .withColumnRenamed(\" pickup_longitude\", \"pickup_longitude\")\n",
    "                .withColumnRenamed(\" pickup_latitude\", \"pickup_latitude\")\n",
    "                .withColumnRenamed(\" dropoff_longitude\", \"dropoff_longitude\")\n",
    "                .withColumnRenamed(\" dropoff_latitude\", \"dropoff_latitude\")\n",
    "           )"
   ]
  },
  {
   "cell_type": "code",
   "execution_count": 6,
   "metadata": {},
   "outputs": [],
   "source": [
    "def df_filter(df):\n",
    "    return (df.withColumn('pickup_longitude', df['pickup_longitude'].cast('float')) #convert str to float\n",
    "          .withColumn('pickup_latitude', df['pickup_latitude'].cast('float'))\n",
    "          .withColumn('dropoff_longitude', df['dropoff_longitude'].cast('float'))\n",
    "          .withColumn('dropoff_latitude', df['dropoff_latitude'].cast('float'))\n",
    "          .withColumn('trip_distance', df['trip_distance'].cast('float'))\n",
    "          .filter(df.trip_distance<20.0) #filter out long distance, miles\n",
    "          .na.drop() #removes rows with null\n",
    "         )"
   ]
  },
  {
   "cell_type": "code",
   "execution_count": null,
   "metadata": {},
   "outputs": [],
   "source": []
  },
  {
   "cell_type": "code",
   "execution_count": 7,
   "metadata": {},
   "outputs": [
    {
     "name": "stdout",
     "output_type": "stream",
     "text": [
      "in 0 trip_data_9.csv\n",
      "datasets/trip_data/trip_data_9.csv\n",
      "datasets/trip_data/trip_data_2.csv\n",
      "['vendor_id', 'rate_code', 'store_and_fwd_flag', 'pickup_datetime', 'dropoff_datetime', 'passenger_count', 'trip_time_in_secs', 'trip_distance', 'pickup_longitude', 'pickup_latitude', 'dropoff_longitude', 'dropoff_latitude']\n",
      "datasets/trip_data/trip_data_11.csv\n",
      "['vendor_id', 'rate_code', 'store_and_fwd_flag', 'pickup_datetime', 'dropoff_datetime', 'passenger_count', 'trip_time_in_secs', 'trip_distance', 'pickup_longitude', 'pickup_latitude', 'dropoff_longitude', 'dropoff_latitude']\n",
      "datasets/trip_data/trip_data_7.csv\n",
      "['vendor_id', 'rate_code', 'store_and_fwd_flag', 'pickup_datetime', 'dropoff_datetime', 'passenger_count', 'trip_time_in_secs', 'trip_distance', 'pickup_longitude', 'pickup_latitude', 'dropoff_longitude', 'dropoff_latitude']\n",
      "datasets/trip_data/trip_data_5.csv\n",
      "['vendor_id', 'rate_code', 'store_and_fwd_flag', 'pickup_datetime', 'dropoff_datetime', 'passenger_count', 'trip_time_in_secs', 'trip_distance', 'pickup_longitude', 'pickup_latitude', 'dropoff_longitude', 'dropoff_latitude']\n",
      "datasets/trip_data/trip_data_4.csv\n",
      "['vendor_id', 'rate_code', 'store_and_fwd_flag', 'pickup_datetime', 'dropoff_datetime', 'passenger_count', 'trip_time_in_secs', 'trip_distance', 'pickup_longitude', 'pickup_latitude', 'dropoff_longitude', 'dropoff_latitude']\n",
      "datasets/trip_data/trip_data_1.csv\n",
      "['vendor_id', 'rate_code', 'store_and_fwd_flag', 'pickup_datetime', 'dropoff_datetime', 'passenger_count', 'trip_time_in_secs', 'trip_distance', 'pickup_longitude', 'pickup_latitude', 'dropoff_longitude', 'dropoff_latitude']\n",
      "datasets/trip_data/trip_data_8.csv\n",
      "['vendor_id', 'rate_code', 'store_and_fwd_flag', 'pickup_datetime', 'dropoff_datetime', 'passenger_count', 'trip_time_in_secs', 'trip_distance', 'pickup_longitude', 'pickup_latitude', 'dropoff_longitude', 'dropoff_latitude']\n",
      "datasets/trip_data/trip_data_10.csv\n",
      "['vendor_id', 'rate_code', 'store_and_fwd_flag', 'pickup_datetime', 'dropoff_datetime', 'passenger_count', 'trip_time_in_secs', 'trip_distance', 'pickup_longitude', 'pickup_latitude', 'dropoff_longitude', 'dropoff_latitude']\n",
      "datasets/trip_data/trip_data_12.csv\n",
      "['vendor_id', 'rate_code', 'store_and_fwd_flag', 'pickup_datetime', 'dropoff_datetime', 'passenger_count', 'trip_time_in_secs', 'trip_distance', 'pickup_longitude', 'pickup_latitude', 'dropoff_longitude', 'dropoff_latitude']\n",
      "datasets/trip_data/trip_data_6.csv\n",
      "['vendor_id', 'rate_code', 'store_and_fwd_flag', 'pickup_datetime', 'dropoff_datetime', 'passenger_count', 'trip_time_in_secs', 'trip_distance', 'pickup_longitude', 'pickup_latitude', 'dropoff_longitude', 'dropoff_latitude']\n",
      "datasets/trip_data/trip_data_3.csv\n",
      "['vendor_id', 'rate_code', 'store_and_fwd_flag', 'pickup_datetime', 'dropoff_datetime', 'passenger_count', 'trip_time_in_secs', 'trip_distance', 'pickup_longitude', 'pickup_latitude', 'dropoff_longitude', 'dropoff_latitude']\n",
      "+---------+---------+------------------+-------------------+-------------------+---------------+-----------------+-------------+----------------+---------------+-----------------+----------------+\n",
      "|vendor_id|rate_code|store_and_fwd_flag|    pickup_datetime|   dropoff_datetime|passenger_count|trip_time_in_secs|trip_distance|pickup_longitude|pickup_latitude|dropoff_longitude|dropoff_latitude|\n",
      "+---------+---------+------------------+-------------------+-------------------+---------------+-----------------+-------------+----------------+---------------+-----------------+----------------+\n",
      "|      CMT|        1|                 N|2013-09-01 16:35:05|2013-09-01 16:47:53|              2|              767|          2.6|        -73.9879|       40.72408|         -73.9946|        40.75058|\n",
      "|      CMT|        1|                 N|2013-09-01 17:44:05|2013-09-01 17:58:37|              1|              871|          3.5|      -74.007866|       40.71023|       -74.003975|        40.75657|\n",
      "|      CMT|        1|                 N|2013-09-01 16:36:20|2013-09-01 16:50:53|              1|              872|          3.1|       -74.01672|       40.70924|       -74.000435|       40.752537|\n",
      "|      CMT|        1|                 N|2013-09-01 07:54:47|2013-09-01 08:09:17|              1|              869|          9.6|       -73.98488|      40.736416|        -73.86142|        40.76818|\n",
      "|      CMT|        1|                 N|2013-09-02 22:50:34|2013-09-02 22:58:22|              1|              468|          1.5|      -73.983376|      40.770252|        -73.97616|        40.78919|\n",
      "|      CMT|        1|                 Y|2013-09-02 23:39:36|2013-09-02 23:58:10|              1|             1113|          8.3|       -73.97051|      40.752357|        -73.87657|       40.738853|\n",
      "|      CMT|        1|                 N|2013-09-02 20:56:24|2013-09-02 21:13:10|              1|             1006|          9.9|       -73.87445|      40.774063|        -73.98471|       40.703598|\n",
      "|      CMT|        1|                 N|2013-09-02 23:07:43|2013-09-02 23:20:50|              2|              787|          3.9|      -74.008255|      40.721905|        -73.96648|       40.753864|\n",
      "|      CMT|        1|                 N|2013-09-02 20:02:09|2013-09-02 20:13:20|              1|              671|          2.2|       -73.98379|      40.743668|        -73.98283|        40.76715|\n",
      "|      CMT|        1|                 N|2013-09-02 17:14:08|2013-09-02 17:31:13|              1|             1024|          2.8|        -73.9542|       40.76419|        -73.97534|        40.79053|\n",
      "|      CMT|        1|                 N|2013-09-04 19:41:38|2013-09-04 20:07:41|              1|             1563|         18.8|       -73.78123|       40.64476|         -73.9851|       40.692684|\n",
      "|      CMT|        1|                 N|2013-09-04 18:29:33|2013-09-04 18:57:41|              1|             1688|         11.4|        -73.9637|       40.75727|        -73.83009|        40.84858|\n",
      "|      CMT|        1|                 N|2013-09-04 18:16:38|2013-09-04 18:23:35|              1|              416|          1.2|       -73.96142|      40.764915|        -73.96577|       40.752716|\n",
      "|      CMT|        1|                 N|2013-09-04 22:32:15|2013-09-04 22:36:18|              1|              243|          1.1|        -73.9888|      40.748432|        -73.98121|       40.762512|\n",
      "|      CMT|        1|                 N|2013-09-04 16:52:07|2013-09-04 17:04:49|              1|              761|          0.7|      -73.986694|      40.766476|        -73.97506|        40.76078|\n",
      "|      CMT|        1|                 N|2013-09-04 18:33:38|2013-09-04 18:36:30|              1|              172|          0.5|      -73.988434|      40.737186|        -73.98465|       40.743233|\n",
      "|      CMT|        1|                 N|2013-09-04 22:02:34|2013-09-04 22:28:13|              1|             1538|          8.4|      -73.983574|       40.76436|        -73.86974|       40.738228|\n",
      "|      CMT|        1|                 N|2013-09-03 21:33:51|2013-09-03 21:39:39|              2|              348|          1.9|       -73.98735|      40.754974|        -73.99982|       40.731094|\n",
      "|      CMT|        1|                 N|2013-09-03 21:41:21|2013-09-03 21:44:57|              1|              216|          0.7|       -74.00033|      40.730152|        -73.99485|       40.723244|\n",
      "|      CMT|        1|                 N|2013-09-03 22:40:21|2013-09-03 23:00:25|              2|             1204|          4.4|      -74.009445|      40.729015|        -73.97283|        40.73674|\n",
      "+---------+---------+------------------+-------------------+-------------------+---------------+-----------------+-------------+----------------+---------------+-----------------+----------------+\n",
      "only showing top 20 rows\n",
      "\n"
     ]
    }
   ],
   "source": [
    "path_trip = \"datasets/trip_data/\"\n",
    "for idx,e in enumerate(os.listdir(path_trip)):\n",
    "    if idx == 0:\n",
    "        print(\"in 0\",e)\n",
    "        dff = df_filter(df_maker(path_trip+e))\n",
    "        #break\n",
    "    else:\n",
    "        #print(e)\n",
    "        df = df_filter(df_maker(path_trip+e))\n",
    "        print(df.columns)\n",
    "        dff=dff.union(df)\n",
    "        #break\n",
    "    #print(dff.count()) #to comment in prod, very time consuming\n",
    "dff.show()"
   ]
  },
  {
   "cell_type": "code",
   "execution_count": 97,
   "metadata": {},
   "outputs": [
    {
     "data": {
      "text/plain": [
       "86322541"
      ]
     },
     "execution_count": 97,
     "metadata": {},
     "output_type": "execute_result"
    }
   ],
   "source": [
    "dff.count()"
   ]
  },
  {
   "cell_type": "code",
   "execution_count": 103,
   "metadata": {},
   "outputs": [
    {
     "data": {
      "text/plain": [
       "7901193"
      ]
     },
     "execution_count": 103,
     "metadata": {},
     "output_type": "execute_result"
    }
   ],
   "source": [
    "df.count()"
   ]
  },
  {
   "cell_type": "code",
   "execution_count": 8,
   "metadata": {},
   "outputs": [],
   "source": [
    "dff_copy = dff\n",
    "df_copy = df"
   ]
  },
  {
   "cell_type": "code",
   "execution_count": 9,
   "metadata": {},
   "outputs": [],
   "source": [
    "## Fititng K means Model \n",
    "from pyspark.ml.feature import VectorAssembler\n",
    "vecAssembler = VectorAssembler(inputCols=[\"dropoff_latitude\", \"dropoff_longitude\"], outputCol=\"features\")\n",
    "df_features_dropoff = vecAssembler.transform(df_copy) #DF COPY HERE, SMALLER THAN DFF"
   ]
  },
  {
   "cell_type": "code",
   "execution_count": 10,
   "metadata": {},
   "outputs": [],
   "source": [
    "from pyspark.ml.clustering import KMeans\n",
    "\n",
    "kmeans = KMeans(k=15, seed=1) \n",
    "model = kmeans.fit(df_features_dropoff.select('features'))"
   ]
  },
  {
   "cell_type": "code",
   "execution_count": 11,
   "metadata": {},
   "outputs": [],
   "source": [
    "### Vecorizing and getting pickup clusters\n",
    "vecAssembler = VectorAssembler(inputCols=[\"pickup_latitude\", \"pickup_longitude\"], outputCol=\"features\")\n",
    "df_features_pickup = vecAssembler.transform(df_copy)\n",
    "df_copy = model.transform(df_features_pickup)"
   ]
  },
  {
   "cell_type": "code",
   "execution_count": 12,
   "metadata": {},
   "outputs": [],
   "source": [
    "## assigniung prediction to pickup cluster\n",
    "df_copy = df_copy.withColumnRenamed('prediction', 'pickup_cluster')\n",
    "df_copy = df_copy.drop('features')"
   ]
  },
  {
   "cell_type": "code",
   "execution_count": 13,
   "metadata": {},
   "outputs": [],
   "source": [
    "### Vecorizing and getting dropoff clusters\n",
    "vecAssembler = VectorAssembler(inputCols=[\"dropoff_latitude\", \"dropoff_longitude\"], outputCol=\"features\")\n",
    "df_features_dropoff = vecAssembler.transform(df_copy)\n",
    "df_copy = model.transform(df_features_dropoff)"
   ]
  },
  {
   "cell_type": "code",
   "execution_count": 14,
   "metadata": {},
   "outputs": [],
   "source": [
    "## assigniung prediction to dropoff cluster\n",
    "df_copy = df_copy.withColumnRenamed('prediction', 'dropoff_cluster')\n",
    "df_copy = df_copy.drop('features')"
   ]
  },
  {
   "cell_type": "code",
   "execution_count": null,
   "metadata": {},
   "outputs": [],
   "source": []
  },
  {
   "cell_type": "markdown",
   "metadata": {},
   "source": [
    "## Let's plot it\n",
    "### First step is to convert it to Panda Dataframe"
   ]
  },
  {
   "cell_type": "code",
   "execution_count": null,
   "metadata": {},
   "outputs": [],
   "source": [
    "pd_df = df_copy.toPandas()"
   ]
  },
  {
   "cell_type": "code",
   "execution_count": null,
   "metadata": {},
   "outputs": [],
   "source": [
    "pd_df = pd_df.sample(frac= 0.1)"
   ]
  },
  {
   "cell_type": "markdown",
   "metadata": {},
   "source": [
    "### Cluster it with Seaborn"
   ]
  },
  {
   "cell_type": "code",
   "execution_count": null,
   "metadata": {},
   "outputs": [],
   "source": [
    "import seaborn as sns\n",
    "%matplotlib inline\n",
    "\n",
    "sns.set_style(\"whitegrid\")\n",
    "sns.lmplot(x=\"pickup_latitude\", y=\"pickup_longitude\",data = pd_df[pd_df['pickup_latitude']!=0.0],fit_reg=False,hue='pickup_cluster',size=10,scatter_kws={\"s\":100})"
   ]
  },
  {
   "cell_type": "code",
   "execution_count": null,
   "metadata": {},
   "outputs": [],
   "source": [
    "sc.stop()"
   ]
  }
 ],
 "metadata": {
  "kernelspec": {
   "display_name": "Python 3",
   "language": "python",
   "name": "python3"
  },
  "language_info": {
   "codemirror_mode": {
    "name": "ipython",
    "version": 3
   },
   "file_extension": ".py",
   "mimetype": "text/x-python",
   "name": "python",
   "nbconvert_exporter": "python",
   "pygments_lexer": "ipython3",
   "version": "3.7.3"
  }
 },
 "nbformat": 4,
 "nbformat_minor": 2
}
