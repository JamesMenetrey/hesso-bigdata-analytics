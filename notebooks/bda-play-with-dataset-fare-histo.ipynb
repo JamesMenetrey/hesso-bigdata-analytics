{
 "cells": [
  {
   "cell_type": "markdown",
   "metadata": {},
   "source": [
    "# BDA Project\n",
    "- Romain Claret\n",
    "- Jämes Ménétrey\n",
    "- Damien Rochat"
   ]
  },
  {
   "cell_type": "markdown",
   "metadata": {},
   "source": [
    "### Load PySpark"
   ]
  },
  {
   "cell_type": "code",
   "execution_count": 1,
   "metadata": {},
   "outputs": [],
   "source": [
    "import os\n",
    "import findspark\n",
    "findspark.init()\n",
    "\n",
    "import pyspark\n",
    "\n",
    "#memory = '4g'\n",
    "#pyspark_submit_args = ' --driver-memory ' + memory + ' pyspark-shell'\n",
    "os.environ[\"SPARK_HOME\"] = \"/opt/spark\"\n",
    "#os.environ[\"PYSPARK_SUBMIT_ARGS\"] = pyspark_submit_args\n",
    "\n",
    "#--driver-maxResultSize 10g --executor-memory 4g\n",
    "\n",
    "from pyspark import SparkContext, SparkConf\n",
    "\n",
    "conf = SparkConf().setAppName(\"bda-spark-fare-histo\")\n",
    "conf = (conf.setMaster('local[*]')\n",
    "        .set('spark.executor.memory', '10g')\n",
    "        .set('spark.driver.memory', '10g')\n",
    "        .set('spark.driver.maxResultSize', '10g')\n",
    "        .set('spark.network.timeout', '1000000000')\n",
    "        .set('spark.executor.heartbeatInterval', '1000000000')\n",
    "        )\n",
    "sc = SparkContext(conf=conf)"
   ]
  },
  {
   "cell_type": "markdown",
   "metadata": {},
   "source": [
    "### Check config"
   ]
  },
  {
   "cell_type": "code",
   "execution_count": 2,
   "metadata": {},
   "outputs": [
    {
     "data": {
      "text/plain": [
       "[('spark.app.id', 'local-1559855930803'),\n",
       " ('spark.executor.memory', '10g'),\n",
       " ('spark.driver.port', '34753'),\n",
       " ('spark.driver.memory', '10g'),\n",
       " ('spark.driver.host', 'rclaret.tic.heia-fr.ch'),\n",
       " ('spark.executor.id', 'driver'),\n",
       " ('spark.driver.maxResultSize', '10g'),\n",
       " ('spark.network.timeout', '1000000000'),\n",
       " ('spark.executor.heartbeatInterval', '1000000000'),\n",
       " ('spark.rdd.compress', 'True'),\n",
       " ('spark.serializer.objectStreamReset', '100'),\n",
       " ('spark.master', 'local[*]'),\n",
       " ('spark.submit.deployMode', 'client'),\n",
       " ('spark.app.name', 'bda-spark-fare-histo'),\n",
       " ('spark.ui.showConsoleProgress', 'true')]"
      ]
     },
     "execution_count": 2,
     "metadata": {},
     "output_type": "execute_result"
    }
   ],
   "source": [
    "sc._conf.getAll()"
   ]
  },
  {
   "cell_type": "markdown",
   "metadata": {},
   "source": [
    "### Check if Spark is working with a little PI calculation using monte carlo"
   ]
  },
  {
   "cell_type": "code",
   "execution_count": 3,
   "metadata": {},
   "outputs": [
    {
     "name": "stdout",
     "output_type": "stream",
     "text": [
      "3.14092\n"
     ]
    }
   ],
   "source": [
    "import random\n",
    "num_samples = 100000\n",
    "def inside(p):     \n",
    "  x, y = random.random(), random.random()\n",
    "  return x*x + y*y < 1\n",
    "count = sc.parallelize(range(0, num_samples)).filter(inside).count()\n",
    "pi = 4 * count / num_samples\n",
    "print(pi)"
   ]
  },
  {
   "cell_type": "markdown",
   "metadata": {},
   "source": [
    "### Load the Dataset"
   ]
  },
  {
   "cell_type": "code",
   "execution_count": 4,
   "metadata": {},
   "outputs": [],
   "source": [
    "from pyspark.sql import SQLContext\n",
    "sqlContext = SQLContext(sc)"
   ]
  },
  {
   "cell_type": "code",
   "execution_count": 5,
   "metadata": {},
   "outputs": [],
   "source": [
    "#df_data.count()"
   ]
  },
  {
   "cell_type": "code",
   "execution_count": 6,
   "metadata": {},
   "outputs": [],
   "source": [
    "#df_data = df_maker_data(\"datasets/trip_data/trip_data_1.csv\")\n",
    "#df_fare = df_maker_fare(\"datasets/trip_fare/trip_fare_1.csv\")\n",
    "#df_merged = df_combiner(df_fare, df_data)\n",
    "#df_merged.printSchema()"
   ]
  },
  {
   "cell_type": "code",
   "execution_count": 7,
   "metadata": {},
   "outputs": [],
   "source": [
    "ny_lat_min = 40.50214590272583\n",
    "ny_lat_max = 40.9#40.75977082462501\n",
    "ny_lon_min = -74.24354116993825\n",
    "ny_lon_max = -73.77490985242169\n",
    "\n",
    "def df_load_curated(path_curated):\n",
    "    return (sqlContext.read.format(\"csv\")\n",
    "                .option(\"delimiter\", \",\")\n",
    "                .option(\"header\", \"true\")\n",
    "                .load(path_curated)\n",
    "            .drop(\"_c0\")\n",
    "           )\n",
    "def df_filter_curated(df):\n",
    "    return (df.withColumn('fare_total', df['fare_total'].cast('float'))\n",
    "            .withColumn('pickup_longitude', df['pickup_latitude'].cast('float'))\n",
    "            .withColumn('pickup_latitude', df['pickup_latitude'].cast('float'))\n",
    "            .filter(df.pickup_latitude<=ny_lat_max)\n",
    "            .filter(df.pickup_latitude>=ny_lat_min)\n",
    "            .filter(df.pickup_longitude<=ny_lon_max)\n",
    "            .filter(df.pickup_longitude>=ny_lon_min)\n",
    "            .filter(df.fare_total>0)\n",
    "           )\n",
    "#df = df_load_curated(\"datasets/trip_curated/undistributed/trip_curated_1.csv\")\n",
    "#df.printSchema()\n",
    "#df = df_filter_curated(df)\n",
    "#df.printSchema()"
   ]
  },
  {
   "cell_type": "code",
   "execution_count": 8,
   "metadata": {},
   "outputs": [
    {
     "name": "stdout",
     "output_type": "stream",
     "text": [
      "trip_curated_8.csv\n",
      "trip_curated_11.csv\n",
      "trip_curated_10.csv\n",
      "trip_curated_9.csv\n",
      "trip_curated_4.csv\n",
      "trip_curated_7.csv\n",
      "trip_curated_12.csv\n",
      "trip_curated_1.csv\n",
      "trip_curated_5.csv\n",
      "trip_curated_2.csv\n",
      "trip_curated_6.csv\n",
      "trip_curated_3.csv\n",
      "root\n",
      " |-- fare_total: float (nullable = true)\n",
      " |-- pickup_longitude: float (nullable = true)\n",
      " |-- pickup_latitude: float (nullable = true)\n",
      "\n",
      "+----------+----------------+---------------+\n",
      "|fare_total|pickup_longitude|pickup_latitude|\n",
      "+----------+----------------+---------------+\n",
      "|       6.5|       40.777966|      40.777966|\n",
      "|       6.0|       40.763157|      40.763157|\n",
      "+----------+----------------+---------------+\n",
      "only showing top 2 rows\n",
      "\n"
     ]
    }
   ],
   "source": [
    "path_curated = \"datasets/trip_curated/undistributed/\"\n",
    "for idx,e in enumerate(os.listdir(path_curated)):\n",
    "    print(e)\n",
    "    if idx == 0:\n",
    "        dff = df_filter_curated(df_load_curated(path_curated+e))\n",
    "    else:\n",
    "        df = df_filter_curated(df_load_curated(path_curated+e))\n",
    "        dff=dff.union(df)\n",
    "df.printSchema()\n",
    "dff.show(2)"
   ]
  },
  {
   "cell_type": "code",
   "execution_count": 24,
   "metadata": {},
   "outputs": [],
   "source": [
    "import matplotlib.pyplot as plt\n",
    "from pyspark_dist_explore import Histogram, hist, distplot, pandas_histogram\n",
    "\n",
    "#df_fare_filtered = df_fare.filter(df_fare.fare_total<=20).filter(df_fare.fare_total>0)\n",
    "df_copy = dff.drop(dff.pickup_longitude).drop(dff.pickup_latitude)\n",
    "\n",
    "df_copy = df_copy.filter(df_copy.fare_total<=20)"
   ]
  },
  {
   "cell_type": "code",
   "execution_count": 16,
   "metadata": {},
   "outputs": [
    {
     "data": {
      "text/plain": [
       "158995.8125"
      ]
     },
     "execution_count": 16,
     "metadata": {},
     "output_type": "execute_result"
    }
   ],
   "source": [
    "#df_copy.max\n",
    "#from pyspark.sql.functions import max\n",
    "#df_copy.select(max(df_copy.fare_total).alias(df_copy.fare_total)).show()\n",
    "\n",
    "import pyspark.sql.functions as F\n",
    "df_copy.agg(F.max(df_copy.fare_total)).first()[0]"
   ]
  },
  {
   "cell_type": "code",
   "execution_count": 25,
   "metadata": {},
   "outputs": [
    {
     "data": {
      "text/plain": [
       "Text(0.5, 1.0, 'Fare_Total Histogram Capped at 20$')"
      ]
     },
     "execution_count": 25,
     "metadata": {},
     "output_type": "execute_result"
    },
    {
     "data": {
      "image/png": "[encoded data removed]",
      "text/plain": [
       "<Figure size 1080x1080 with 1 Axes>"
      ]
     },
     "metadata": {
      "needs_background": "light"
     },
     "output_type": "display_data"
    }
   ],
   "source": [
    "import time\n",
    "#https://github.com/Bergvca/pyspark_dist_explore\n",
    "plt.rcParams.update({'font.size': 24})\n",
    "\n",
    "fig, ax = plt.subplots()\n",
    "fig.set_size_inches(15, 15)\n",
    "\n",
    "start_time = time.time()\n",
    "\n",
    "hist(ax, df_copy, bins = 200, color=['blue'])\n",
    "\n",
    "time.strftime(\"Done with: %H:%M:%S\", time.gmtime(time.time() - start_time))\n",
    "\n",
    "ax.set_xlabel(\"Fare per Trip\")\n",
    "ax.set_ylabel(\"Total Fares\")\n",
    "ax.set_title('Fare_Total Histogram Capped at 20$')"
   ]
  },
  {
   "cell_type": "code",
   "execution_count": null,
   "metadata": {},
   "outputs": [],
   "source": [
    "fig, ax = plt.subplots()\n",
    "fig.set_size_inches(10, 10)\n",
    "\n",
    "distplot(ax, df_fare_filtered, bins = 60, color=['blue'])\n",
    "ax.set_xlabel(\"Fare per Trip\")\n",
    "ax.set_ylabel(\"Fares Distribution\")\n",
    "ax.set_title('Fare_Total Distribution')"
   ]
  },
  {
   "cell_type": "code",
   "execution_count": null,
   "metadata": {},
   "outputs": [],
   "source": []
  }
 ],
 "metadata": {
  "kernelspec": {
   "display_name": "Python 3",
   "language": "python",
   "name": "python3"
  },
  "language_info": {
   "codemirror_mode": {
    "name": "ipython",
    "version": 3
   },
   "file_extension": ".py",
   "mimetype": "text/x-python",
   "name": "python",
   "nbconvert_exporter": "python",
   "pygments_lexer": "ipython3",
   "version": "3.7.3"
  }
 },
 "nbformat": 4,
 "nbformat_minor": 2
}
