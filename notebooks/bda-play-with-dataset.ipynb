{
 "cells": [
  {
   "cell_type": "markdown",
   "metadata": {},
   "source": [
    "# BDA Project\n",
    "- Romain Claret\n",
    "- Jämes Ménétrey\n",
    "- Damien Rochat"
   ]
  },
  {
   "cell_type": "markdown",
   "metadata": {},
   "source": [
    "### Load PySpark"
   ]
  },
  {
   "cell_type": "code",
   "execution_count": 1,
   "metadata": {},
   "outputs": [],
   "source": [
    "import os\n",
    "import findspark\n",
    "findspark.init()\n",
    "\n",
    "import pyspark\n",
    "\n",
    "memory = '4g'\n",
    "pyspark_submit_args = ' --driver-memory ' + memory + ' pyspark-shell'\n",
    "os.environ[\"SPARK_HOME\"] = \"/opt/spark\"\n",
    "os.environ[\"PYSPARK_SUBMIT_ARGS\"] = pyspark_submit_args\n",
    "\n",
    "from pyspark import SparkContext\n",
    "sc = SparkContext(appName=\"bda-spark\")"
   ]
  },
  {
   "cell_type": "code",
   "execution_count": 2,
   "metadata": {},
   "outputs": [],
   "source": [
    "#SparkContext.setSystemProperty('spark.executor.memory', '4g')\n",
    "#SparkContext.setSystemProperty('spark.driver.memory', '40g')\n",
    "#SparkContext.setSystemProperty('spark.driver.maxResultSize', '10g')\n",
    "#SparkContext.setSystemProperty('spark.executor.memory', '4g')\n",
    "#SparkContext.setSystemProperty('spark.executor.memory', '4g')\n",
    "#conf = SparkConf().setAppName(\"bda-spark\")\n",
    "#conf = (conf.setMaster('local[*]')\n",
    "#        .set('spark.executor.memory', '4G')\n",
    "#        .set('spark.driver.memory', '45G')\n",
    "#        .set('spark.driver.maxResultSize', '10G'))\n",
    "#sc = SparkContext(conf=conf)"
   ]
  },
  {
   "cell_type": "code",
   "execution_count": 3,
   "metadata": {},
   "outputs": [
    {
     "data": {
      "text/plain": [
       "[('spark.app.id', 'local-1559699432163'),\n",
       " ('spark.driver.memory', '4g'),\n",
       " ('spark.rdd.compress', 'True'),\n",
       " ('spark.serializer.objectStreamReset', '100'),\n",
       " ('spark.master', 'local[*]'),\n",
       " ('spark.executor.id', 'driver'),\n",
       " ('spark.submit.deployMode', 'client'),\n",
       " ('spark.driver.host', 'rclaret.tic.heia-fr.ch'),\n",
       " ('spark.app.name', 'bda-spark'),\n",
       " ('spark.driver.port', '38031'),\n",
       " ('spark.ui.showConsoleProgress', 'true')]"
      ]
     },
     "execution_count": 3,
     "metadata": {},
     "output_type": "execute_result"
    }
   ],
   "source": [
    "sc._conf.getAll()"
   ]
  },
  {
   "cell_type": "markdown",
   "metadata": {},
   "source": [
    "### Check if Spark is working with a little PI calculation using monte carlo"
   ]
  },
  {
   "cell_type": "code",
   "execution_count": 4,
   "metadata": {},
   "outputs": [
    {
     "name": "stdout",
     "output_type": "stream",
     "text": [
      "3.14636\n"
     ]
    }
   ],
   "source": [
    "import random\n",
    "num_samples = 100000\n",
    "def inside(p):     \n",
    "  x, y = random.random(), random.random()\n",
    "  return x*x + y*y < 1\n",
    "count = sc.parallelize(range(0, num_samples)).filter(inside).count()\n",
    "pi = 4 * count / num_samples\n",
    "print(pi)"
   ]
  },
  {
   "cell_type": "markdown",
   "metadata": {},
   "source": [
    "### Load the Dataset"
   ]
  },
  {
   "cell_type": "code",
   "execution_count": 5,
   "metadata": {},
   "outputs": [],
   "source": [
    "from pyspark.sql import SQLContext\n",
    "sqlContext = SQLContext(sc)"
   ]
  },
  {
   "cell_type": "code",
   "execution_count": 6,
   "metadata": {},
   "outputs": [],
   "source": [
    "def df_maker(file_path):\n",
    "    print(file_path)\n",
    "    return (sqlContext.read.format(\"csv\")\n",
    "                .option(\"delimiter\", \",\")\n",
    "                .option(\"header\", \"true\")\n",
    "                .load(file_path)\n",
    "                .drop(\"medallion\")\n",
    "                .drop(\" hack_license\")\n",
    "                .drop(\"hack_license\")\n",
    "                .withColumnRenamed(\" vendor_id\", \"vendor_id\")\n",
    "                .withColumnRenamed(\" rate_code\", \"rate_code\")\n",
    "                .withColumnRenamed(\" store_and_fwd_flag\", \"store_and_fwd_flag\")\n",
    "                .withColumnRenamed(\" pickup_datetime\", \"pickup_datetime\")\n",
    "                .withColumnRenamed(\" dropoff_datetime\", \"dropoff_datetime\")\n",
    "                .withColumnRenamed(\" passenger_count\", \"passenger_count\")\n",
    "                .withColumnRenamed(\" trip_time_in_secs\", \"trip_time_in_secs\")\n",
    "                .withColumnRenamed(\" trip_distance\", \"trip_distance\")\n",
    "                .withColumnRenamed(\" pickup_longitude\", \"pickup_longitude\")\n",
    "                .withColumnRenamed(\" pickup_latitude\", \"pickup_latitude\")\n",
    "                .withColumnRenamed(\" dropoff_longitude\", \"dropoff_longitude\")\n",
    "                .withColumnRenamed(\" dropoff_latitude\", \"dropoff_latitude\")\n",
    "           )"
   ]
  },
  {
   "cell_type": "markdown",
   "metadata": {},
   "source": [
    "### Filter the Dataset"
   ]
  },
  {
   "cell_type": "code",
   "execution_count": 7,
   "metadata": {},
   "outputs": [],
   "source": [
    "def df_filter(df):\n",
    "    return (df.withColumn('pickup_longitude', df['pickup_longitude'].cast('float')) #convert str to float\n",
    "          .withColumn('pickup_latitude', df['pickup_latitude'].cast('float'))\n",
    "          .withColumn('dropoff_longitude', df['dropoff_longitude'].cast('float'))\n",
    "          .withColumn('dropoff_latitude', df['dropoff_latitude'].cast('float'))\n",
    "          .withColumn('trip_distance', df['trip_distance'].cast('float'))\n",
    "          .filter(df.trip_distance<20.0) #filter out long distance, miles\n",
    "          .na.drop() #removes rows with null\n",
    "         )"
   ]
  },
  {
   "cell_type": "markdown",
   "metadata": {},
   "source": [
    "### Create complete Dataframe from all Dataset files"
   ]
  },
  {
   "cell_type": "code",
   "execution_count": 8,
   "metadata": {},
   "outputs": [
    {
     "name": "stdout",
     "output_type": "stream",
     "text": [
      "in 0 trip_data_9.csv\n",
      "datasets/trip_data/trip_data_9.csv\n",
      "datasets/trip_data/trip_data_2.csv\n",
      "datasets/trip_data/trip_data_11.csv\n",
      "datasets/trip_data/trip_data_7.csv\n",
      "datasets/trip_data/trip_data_5.csv\n",
      "datasets/trip_data/trip_data_4.csv\n",
      "datasets/trip_data/trip_data_1.csv\n",
      "datasets/trip_data/trip_data_8.csv\n",
      "datasets/trip_data/trip_data_10.csv\n",
      "datasets/trip_data/trip_data_12.csv\n",
      "datasets/trip_data/trip_data_6.csv\n",
      "datasets/trip_data/trip_data_3.csv\n",
      "+---------+---------+------------------+-------------------+-------------------+---------------+-----------------+-------------+----------------+---------------+-----------------+----------------+\n",
      "|vendor_id|rate_code|store_and_fwd_flag|    pickup_datetime|   dropoff_datetime|passenger_count|trip_time_in_secs|trip_distance|pickup_longitude|pickup_latitude|dropoff_longitude|dropoff_latitude|\n",
      "+---------+---------+------------------+-------------------+-------------------+---------------+-----------------+-------------+----------------+---------------+-----------------+----------------+\n",
      "|      CMT|        1|                 N|2013-09-01 16:35:05|2013-09-01 16:47:53|              2|              767|          2.6|        -73.9879|       40.72408|         -73.9946|        40.75058|\n",
      "|      CMT|        1|                 N|2013-09-01 17:44:05|2013-09-01 17:58:37|              1|              871|          3.5|      -74.007866|       40.71023|       -74.003975|        40.75657|\n",
      "|      CMT|        1|                 N|2013-09-01 16:36:20|2013-09-01 16:50:53|              1|              872|          3.1|       -74.01672|       40.70924|       -74.000435|       40.752537|\n",
      "|      CMT|        1|                 N|2013-09-01 07:54:47|2013-09-01 08:09:17|              1|              869|          9.6|       -73.98488|      40.736416|        -73.86142|        40.76818|\n",
      "|      CMT|        1|                 N|2013-09-02 22:50:34|2013-09-02 22:58:22|              1|              468|          1.5|      -73.983376|      40.770252|        -73.97616|        40.78919|\n",
      "+---------+---------+------------------+-------------------+-------------------+---------------+-----------------+-------------+----------------+---------------+-----------------+----------------+\n",
      "only showing top 5 rows\n",
      "\n"
     ]
    }
   ],
   "source": [
    "path_trip = \"datasets/trip_data/\"\n",
    "for idx,e in enumerate(os.listdir(path_trip)):\n",
    "    if idx == 0:\n",
    "        print(\"in 0\",e)\n",
    "        dff = df_filter(df_maker(path_trip+e))\n",
    "        #break\n",
    "    else:\n",
    "        #print(e)\n",
    "        df = df_filter(df_maker(path_trip+e))\n",
    "        #print(df.columns)\n",
    "        dff=dff.union(df)\n",
    "        #break\n",
    "    #print(dff.count()) #to comment in prod, very time consuming\n",
    "dff.show(5)"
   ]
  },
  {
   "cell_type": "markdown",
   "metadata": {},
   "source": [
    "#### Count of the whole dataset"
   ]
  },
  {
   "cell_type": "code",
   "execution_count": 9,
   "metadata": {},
   "outputs": [
    {
     "data": {
      "text/plain": [
       "86322541"
      ]
     },
     "execution_count": 9,
     "metadata": {},
     "output_type": "execute_result"
    }
   ],
   "source": [
    "dff.count()"
   ]
  },
  {
   "cell_type": "markdown",
   "metadata": {},
   "source": [
    "#### Count of the unique last dataset load"
   ]
  },
  {
   "cell_type": "code",
   "execution_count": 10,
   "metadata": {},
   "outputs": [
    {
     "data": {
      "text/plain": [
       "7901193"
      ]
     },
     "execution_count": 10,
     "metadata": {},
     "output_type": "execute_result"
    }
   ],
   "source": [
    "df.count()"
   ]
  },
  {
   "cell_type": "markdown",
   "metadata": {},
   "source": [
    "### Temporary Dataframes"
   ]
  },
  {
   "cell_type": "code",
   "execution_count": 11,
   "metadata": {},
   "outputs": [],
   "source": [
    "dff_copy = dff\n",
    "df_copy = df"
   ]
  },
  {
   "cell_type": "markdown",
   "metadata": {},
   "source": [
    "## Using K-Means to show Clusters\n",
    "- pickup cluster\n",
    "- dropoff cluster\n",
    "\n",
    "### Vecorizing the Dataframe"
   ]
  },
  {
   "cell_type": "code",
   "execution_count": 12,
   "metadata": {},
   "outputs": [],
   "source": [
    "from pyspark.ml.feature import VectorAssembler\n",
    "vecAssembler = VectorAssembler(inputCols=[\"dropoff_latitude\", \"dropoff_longitude\"], outputCol=\"features\")\n",
    "vec_df_copy = vecAssembler.transform(df_copy)"
   ]
  },
  {
   "cell_type": "markdown",
   "metadata": {},
   "source": [
    "### Fititng K-Means Model"
   ]
  },
  {
   "cell_type": "code",
   "execution_count": 13,
   "metadata": {},
   "outputs": [],
   "source": [
    "from pyspark.ml.clustering import KMeans\n",
    "\n",
    "kmeans = KMeans(k=15, seed=1) \n",
    "model = kmeans.fit(vec_df_copy.select('features'))"
   ]
  },
  {
   "cell_type": "markdown",
   "metadata": {},
   "source": [
    "### Vecorizing and Clustering pickup clusters"
   ]
  },
  {
   "cell_type": "code",
   "execution_count": 14,
   "metadata": {},
   "outputs": [],
   "source": [
    "vecAssembler = VectorAssembler(inputCols=[\"pickup_latitude\", \"pickup_longitude\"], outputCol=\"features\")\n",
    "df_features_pickup = vecAssembler.transform(df_copy)\n",
    "df_copy = model.transform(df_features_pickup)"
   ]
  },
  {
   "cell_type": "markdown",
   "metadata": {},
   "source": [
    "### Cleaning and Assigning prediction as pickup cluster"
   ]
  },
  {
   "cell_type": "code",
   "execution_count": 15,
   "metadata": {},
   "outputs": [],
   "source": [
    "df_copy = df_copy.withColumnRenamed('prediction', 'pickup_cluster')\n",
    "df_copy = df_copy.drop('features')"
   ]
  },
  {
   "cell_type": "markdown",
   "metadata": {},
   "source": [
    "### Vecorizing and Clustering dropoff"
   ]
  },
  {
   "cell_type": "code",
   "execution_count": 16,
   "metadata": {},
   "outputs": [],
   "source": [
    "vecAssembler = VectorAssembler(inputCols=[\"dropoff_latitude\", \"dropoff_longitude\"], outputCol=\"features\")\n",
    "df_features_dropoff = vecAssembler.transform(df_copy)\n",
    "df_copy = model.transform(df_features_dropoff)"
   ]
  },
  {
   "cell_type": "markdown",
   "metadata": {},
   "source": [
    "### Cleaning and Assigning prediction as dropoff cluster"
   ]
  },
  {
   "cell_type": "code",
   "execution_count": 17,
   "metadata": {},
   "outputs": [],
   "source": [
    "df_copy = df_copy.withColumnRenamed('prediction', 'dropoff_cluster')\n",
    "df_copy = df_copy.drop('features')"
   ]
  },
  {
   "cell_type": "markdown",
   "metadata": {},
   "source": [
    "## Let's plot it\n",
    "### First step is to convert it to Panda Dataframe"
   ]
  },
  {
   "cell_type": "code",
   "execution_count": 18,
   "metadata": {},
   "outputs": [],
   "source": [
    "pd_df = df_copy.toPandas()"
   ]
  },
  {
   "cell_type": "code",
   "execution_count": 19,
   "metadata": {},
   "outputs": [],
   "source": [
    "pd_df = pd_df.sample(frac= 0.1)"
   ]
  },
  {
   "cell_type": "markdown",
   "metadata": {},
   "source": [
    "### Cluster it with Seaborn"
   ]
  },
  {
   "cell_type": "code",
   "execution_count": 20,
   "metadata": {},
   "outputs": [
    {
     "data": {
      "text/plain": [
       "<seaborn.axisgrid.FacetGrid at 0x7fdc4d2fe908>"
      ]
     },
     "execution_count": 20,
     "metadata": {},
     "output_type": "execute_result"
    },
    {
     "data": {
      "image/png": "[encoded data removed]",
      "text/plain": [
       "<Figure size 800.125x720 with 1 Axes>"
      ]
     },
     "metadata": {},
     "output_type": "display_data"
    }
   ],
   "source": [
    "import seaborn as sns\n",
    "%matplotlib inline\n",
    "\n",
    "sns.set_style(\"whitegrid\")\n",
    "sns.lmplot(x=\"pickup_latitude\", y=\"pickup_longitude\",data = pd_df[pd_df['pickup_latitude']!=0.0],fit_reg=False,hue='pickup_cluster',height=10,scatter_kws={\"s\":100})"
   ]
  },
  {
   "cell_type": "code",
   "execution_count": 21,
   "metadata": {},
   "outputs": [
    {
     "data": {
      "text/plain": [
       "(790119,)"
      ]
     },
     "execution_count": 21,
     "metadata": {},
     "output_type": "execute_result"
    }
   ],
   "source": [
    "pd_df[\"pickup_cluster\"].shape"
   ]
  },
  {
   "cell_type": "code",
   "execution_count": 22,
   "metadata": {},
   "outputs": [
    {
     "data": {
      "text/plain": [
       "(790119,)"
      ]
     },
     "execution_count": 22,
     "metadata": {},
     "output_type": "execute_result"
    }
   ],
   "source": [
    "pd_df[\"dropoff_cluster\"].shape"
   ]
  },
  {
   "cell_type": "code",
   "execution_count": 23,
   "metadata": {},
   "outputs": [
    {
     "data": {
      "text/plain": [
       "<seaborn.axisgrid.FacetGrid at 0x7fdc4daaf4e0>"
      ]
     },
     "execution_count": 23,
     "metadata": {},
     "output_type": "execute_result"
    },
    {
     "data": {
      "image/png": "[encoded data removed]",
      "text/plain": [
       "<Figure size 803.125x720 with 1 Axes>"
      ]
     },
     "metadata": {},
     "output_type": "display_data"
    }
   ],
   "source": [
    "import seaborn as sns\n",
    "%matplotlib inline\n",
    "\n",
    "sns.set_style(\"whitegrid\")\n",
    "sns.lmplot(x=\"dropoff_latitude\", y=\"dropoff_longitude\",data = pd_df[pd_df['dropoff_latitude']!=0.0],fit_reg=False,hue='dropoff_cluster',height=10,scatter_kws={\"s\":100})"
   ]
  },
  {
   "cell_type": "code",
   "execution_count": 24,
   "metadata": {},
   "outputs": [],
   "source": [
    "#sc.stop()"
   ]
  },
  {
   "cell_type": "code",
   "execution_count": null,
   "metadata": {},
   "outputs": [],
   "source": []
  }
 ],
 "metadata": {
  "kernelspec": {
   "display_name": "Python 3",
   "language": "python",
   "name": "python3"
  },
  "language_info": {
   "codemirror_mode": {
    "name": "ipython",
    "version": 3
   },
   "file_extension": ".py",
   "mimetype": "text/x-python",
   "name": "python",
   "nbconvert_exporter": "python",
   "pygments_lexer": "ipython3",
   "version": "3.7.3"
  }
 },
 "nbformat": 4,
 "nbformat_minor": 2
}
